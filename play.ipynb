{
 "cells": [
  {
   "cell_type": "code",
   "execution_count": 7,
   "metadata": {},
   "outputs": [
    {
     "name": "stdout",
     "output_type": "stream",
     "text": [
      "1\n",
      "Format 1, Answer 1: 1\n",
      "Format 1, Answer 0: 4999\n",
      "Format 0, Answer 0: 0\n"
     ]
    }
   ],
   "source": [
    "import json\n",
    "\n",
    "with open(\"out/math_baseline.jsonl\") as f:\n",
    "    results = [json.loads(line) for line in f]\n",
    "\n",
    "f1a1 = []\n",
    "f1a0 = []\n",
    "f0a0 = []\n",
    "\n",
    "for result in results:\n",
    "    if (\n",
    "        result[\"rewards\"][\"format_reward\"] == 1\n",
    "        and result[\"rewards\"][\"answer_reward\"] == 1\n",
    "    ):\n",
    "        f1a1.append(result)\n",
    "    elif result[\"rewards\"][\"format_reward\"] == 1:\n",
    "        f1a0.append(result)\n",
    "    elif result[\"rewards\"][\"answer_reward\"] == 0:\n",
    "        f0a0.append(result)\n",
    "\n",
    "print(f\"Format 1, Answer 1: {len(f1a1)}\")\n",
    "print(f\"Format 1, Answer 0: {len(f1a0)}\")\n",
    "print(f\"Format 0, Answer 0: {len(f0a0)}\")"
   ]
  },
  {
   "cell_type": "code",
   "execution_count": null,
   "metadata": {},
   "outputs": [],
   "source": []
  }
 ],
 "metadata": {
  "kernelspec": {
   "display_name": "cs336-a5",
   "language": "python",
   "name": "python3"
  },
  "language_info": {
   "codemirror_mode": {
    "name": "ipython",
    "version": 3
   },
   "file_extension": ".py",
   "mimetype": "text/x-python",
   "name": "python",
   "nbconvert_exporter": "python",
   "pygments_lexer": "ipython3",
   "version": "3.11.12"
  }
 },
 "nbformat": 4,
 "nbformat_minor": 2
}
